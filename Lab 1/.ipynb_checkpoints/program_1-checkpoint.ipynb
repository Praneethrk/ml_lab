{
 "cells": [
  {
   "cell_type": "code",
   "execution_count": null,
   "metadata": {},
   "outputs": [],
   "source": [
    "import random\n",
    "import csv\n",
    "attributes=[['Sunny','Rainy'],\n",
    "           ['Warm','Cold'],\n",
    "           ['Normal','High'],\n",
    "           ['Strong','Weak',],\n",
    "           ['Warm','Cool'],\n",
    "           ['Same','Change']]\n",
    "num_attributes=len(attributes)\n",
    "print(\"\\nThe most general hypothesis:['?','?','?','?','?','?']\\n\")\n",
    "print(\"\\nthe most specific hypothesis:['0','0','0','0','0','0']\\n\")\n",
    "a=[]\n",
    "print(\"\\nthe given training data set\\n\")\n",
    "with open('lab1.csv','r')as csvFile:\n",
    "    reader= csv.reader(csvFile)\n",
    "    for row in reader:\n",
    "        a.append(row)\n",
    "        print(row)\n",
    "print(\"\\nthe initial value of hypothesis:\")\n",
    "hypothesis=['0']*num_attributes\n",
    "print(hypothesis)\n",
    "\n",
    "for j in range(0,num_attributes):\n",
    "    hypothesis[j]=a[0][j];\n",
    "   \n",
    "print(\"\\n find s:finding a maximally specific hypothesis\\n\")\n",
    "for i in range(0,len(a)):\n",
    "        if a[i][num_attributes]=='yes':\n",
    "            for j in range(0,num_attributes):\n",
    "                if a[i][j]!=hypothesis[j]:\n",
    "                    hypothesis[j]='?'\n",
    "                else:\n",
    "                    hypothesis[j]=a[i][j]\n",
    "        print(\"for training example num:{0} the hypothesis is\".format(i),hypothesis)\n",
    "print(\"\\n the maximally specific hypothesis for a given training examples\\n\")\n",
    "print(hypothesis)"
   ]
  }
 ],
 "metadata": {
  "kernelspec": {
   "display_name": "Python 3",
   "language": "python",
   "name": "python3"
  },
  "language_info": {
   "codemirror_mode": {
    "name": "ipython",
    "version": 3
   },
   "file_extension": ".py",
   "mimetype": "text/x-python",
   "name": "python",
   "nbconvert_exporter": "python",
   "pygments_lexer": "ipython3",
   "version": "3.7.4"
  }
 },
 "nbformat": 4,
 "nbformat_minor": 2
}
