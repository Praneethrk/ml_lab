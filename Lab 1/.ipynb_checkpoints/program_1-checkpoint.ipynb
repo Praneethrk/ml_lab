{
 "cells": [
  {
   "cell_type": "code",
   "execution_count": 2,
   "metadata": {},
   "outputs": [
    {
     "name": "stdout",
     "output_type": "stream",
     "text": [
      "\n",
      "The most general hypothesis:['?','?','?','?','?','?']\n",
      "\n",
      "\n",
      "the most specific hypothesis:['0','0','0','0','0','0']\n",
      "\n",
      "\n",
      "the given training data set\n",
      "\n",
      "['sunny', 'warm', 'normal', 'strong', 'warm ', 'same ', 'yes']\n",
      "['sunny', 'warm', 'high', 'strong', 'warm ', 'same ', 'yes']\n",
      "['rainy', 'cold', 'high', 'strong', 'warm ', 'change', 'no']\n",
      "['sunny', 'warm', 'high', 'strong', 'cool', 'change', 'yes']\n",
      "\n",
      "the initial value of hypothesis:\n",
      "['0', '0', '0', '0', '0', '0']\n",
      "\n",
      "find s:finding a maximally specific hypothesis\n",
      "\n",
      "for training example num:0 the hypothesis is ['sunny', 'warm', 'normal', 'strong', 'warm ', 'same ']\n",
      "for training example num:1 the hypothesis is ['sunny', 'warm', '?', 'strong', 'warm ', 'same ']\n",
      "for training example num:2 the hypothesis is ['sunny', 'warm', '?', 'strong', 'warm ', 'same ']\n",
      "for training example num:3 the hypothesis is ['sunny', 'warm', '?', 'strong', '?', '?']\n",
      "\n",
      " the maximally specific hypothesis for a given training examples\n",
      "\n",
      "['sunny', 'warm', '?', 'strong', '?', '?']\n"
     ]
    }
   ],
   "source": [
    "import random\n",
    "import csv\n",
    "attributes=[['Sunny','Rainy'],\n",
    "            ['Warm','Cold'],\n",
    "           ['Normal','High'],\n",
    "           ['Strong','Weak',],\n",
    "           ['Warm','Cool'],\n",
    "           ['Same','Change']]\n",
    "num_attributes=len(attributes)\n",
    "print(\"\\nThe most general hypothesis:['?','?','?','?','?','?']\\n\")\n",
    "print(\"\\nthe most specific hypothesis:['0','0','0','0','0','0']\\n\")\n",
    "a=[]\n",
    "print(\"\\nthe given training data set\\n\")\n",
    "with open('lab1.csv','r')as csvFile:\n",
    "    reader= csv.reader(csvFile)\n",
    "    for row in reader:\n",
    "        a.append(row)\n",
    "        print(row)\n",
    "print(\"\\nthe initial value of hypothesis:\")\n",
    "hypothesis=['0']*num_attributes\n",
    "print(hypothesis)\n",
    "\n",
    "for j in range(0,num_attributes):\n",
    "    hypothesis[j]=a[0][j];\n",
    "   \n",
    "print(\"\\nfind s:finding a maximally specific hypothesis\\n\")\n",
    "for i in range(0,len(a)):\n",
    "        if a[i][num_attributes]=='yes':\n",
    "            for j in range(0,num_attributes):\n",
    "                if a[i][j]!=hypothesis[j]:\n",
    "                    hypothesis[j]='?'\n",
    "                else:\n",
    "                    hypothesis[j]=a[i][j]\n",
    "        print(\"for training example num:{0} the hypothesis is\".format(i),hypothesis)\n",
    "print(\"\\nthe maximally specific hypothesis for a given training examples\\n\")\n",
    "print(hypothesis)"
   ]
  },
  {
   "cell_type": "code",
   "execution_count": null,
   "metadata": {},
   "outputs": [],
   "source": []
  }
 ],
 "metadata": {
  "kernelspec": {
   "display_name": "Python 3",
   "language": "python",
   "name": "python3"
  },
  "language_info": {
   "codemirror_mode": {
    "name": "ipython",
    "version": 3
   },
   "file_extension": ".py",
   "mimetype": "text/x-python",
   "name": "python",
   "nbconvert_exporter": "python",
   "pygments_lexer": "ipython3",
   "version": "3.7.4"
  }
 },
 "nbformat": 4,
 "nbformat_minor": 2
}
