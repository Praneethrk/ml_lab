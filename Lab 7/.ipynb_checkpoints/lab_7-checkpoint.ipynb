{
 "cells": [
  {
   "cell_type": "code",
   "execution_count": 27,
   "metadata": {
    "colab": {
     "base_uri": "https://localhost:8080/",
     "height": 503
    },
    "colab_type": "code",
    "id": "S9ZWkHPazKmh",
    "outputId": "0c4d04b1-d9e7-428a-ce6e-4a7a40b78cfe"
   },
   "outputs": [
    {
     "name": "stdout",
     "output_type": "stream",
     "text": [
      "Drive already mounted at /content/drive; to attempt to forcibly remount, call drive.mount(\"/content/drive\", force_remount=True).\n",
      "Requirement already satisfied: pgmpy in /usr/local/lib/python3.6/dist-packages (0.1.9)\n",
      "Requirement already satisfied: msgpack in /usr/local/lib/python3.6/dist-packages (0.5.6)\n",
      "\n",
      " learning cpds using maximum likelihood estimators...\n"
     ]
    },
    {
     "name": "stderr",
     "output_type": "stream",
     "text": [
      "Finding Elimination Order: : 100%|██████████| 7/7 [00:00<00:00, 2196.96it/s]\n",
      "Eliminating: sex: 100%|██████████| 7/7 [00:00<00:00, 257.52it/s]\n",
      "Finding Elimination Order: : 100%|██████████| 6/6 [00:00<00:00, 1420.27it/s]\n",
      "Eliminating: sex: 100%|██████████| 6/6 [00:00<00:00, 318.14it/s]"
     ]
    },
    {
     "name": "stdout",
     "output_type": "stream",
     "text": [
      "\n",
      " inferencing with Bayesian network:\n",
      "n1.probability of HeartDiease given age=28\n",
      "+-----------------+---------------------+\n",
      "| heartdisease    |   phi(heartdisease) |\n",
      "+=================+=====================+\n",
      "| heartdisease(0) |              0.4919 |\n",
      "+-----------------+---------------------+\n",
      "| heartdisease(1) |              0.5081 |\n",
      "+-----------------+---------------------+\n",
      "\n",
      "2. probability of HeartDisease given chol(cholestrol)=100\n",
      "+-----------------+---------------------+\n",
      "| heartdisease    |   phi(heartdisease) |\n",
      "+=================+=====================+\n",
      "| heartdisease(0) |              1.0000 |\n",
      "+-----------------+---------------------+\n",
      "| heartdisease(1) |              0.0000 |\n",
      "+-----------------+---------------------+\n"
     ]
    },
    {
     "name": "stderr",
     "output_type": "stream",
     "text": [
      "\n"
     ]
    }
   ],
   "source": [
    "from google.colab import drive\n",
    "drive.mount('/content/drive')\n",
    "!pip install pgmpy\n",
    "!pip install msgpack\n",
    "\n",
    "import numpy as np\n",
    "import pandas as pd\n",
    "import csv\n",
    "from pgmpy.estimators import MaximumLikelihoodEstimator,BayesianEstimator\n",
    "\n",
    "from pgmpy.models import BayesianModel\n",
    "from pgmpy.inference import VariableElimination\n",
    "lines=list(csv.reader(open('/content/drive/My Drive/ML_LAB/lab7_names.csv','r')))\n",
    "attributes = lines[0]\n",
    "heartDisease=pd.read_csv('/content/drive/My Drive/ML_LAB/data_lab7.csv',names=attributes)\n",
    "heartDisease = heartDisease.replace('?',np.nan)\n",
    "\n",
    "\n",
    "\n",
    "model = BayesianModel([('age','trestbps'),('age','fbs'),('sex','trestbps'),\n",
    "('sex','trestbps'),('exang','trestbps'),('trestbps','heartdisease'),\n",
    "('fbs','heartdisease'),('heartdisease','restecg'),('heartdisease','thalach'),('heartdisease','chol')])\n",
    "print('\\n learning cpds using maximum likelihood estimators...')\n",
    "model.fit(heartDisease,estimator=MaximumLikelihoodEstimator)\n",
    "print('\\n inferencing with Bayesian network:')\n",
    "HeartDisease_infer=VariableElimination(model)\n",
    "print('n1.probability of HeartDiease given age=28')\n",
    "q= HeartDisease_infer.query(variables=['heartdisease'],evidence={'age':28})\n",
    "print(q)\n",
    "print('\\n2. probability of HeartDisease given chol(cholestrol)=100')\n",
    "q= HeartDisease_infer.query(variables=['heartdisease'],evidence={'chol':'200','age':30})\n",
    "print(q)"
   ]
  }
 ],
 "metadata": {
  "colab": {
   "collapsed_sections": [],
   "name": "lab7.ipynb",
   "provenance": []
  },
  "kernelspec": {
   "display_name": "Python 3",
   "language": "python",
   "name": "python3"
  },
  "language_info": {
   "codemirror_mode": {
    "name": "ipython",
    "version": 3
   },
   "file_extension": ".py",
   "mimetype": "text/x-python",
   "name": "python",
   "nbconvert_exporter": "python",
   "pygments_lexer": "ipython3",
   "version": "3.7.4"
  }
 },
 "nbformat": 4,
 "nbformat_minor": 1
}
